{
 "cells": [
  {
   "cell_type": "code",
   "execution_count": 1,
   "metadata": {},
   "outputs": [
    {
     "name": "stderr",
     "output_type": "stream",
     "text": [
      "Fontconfig warning: ignoring UTF-8: not a valid region tag\n"
     ]
    }
   ],
   "source": [
    "# import psychoPy for create an experiment with image and text\n",
    "from psychopy import visual, core, event\n",
    "import random\n",
    "import numpy as np\n",
    "import pandas as pd\n",
    "import os\n"
   ]
  },
  {
   "cell_type": "code",
   "execution_count": 2,
   "metadata": {},
   "outputs": [],
   "source": [
    "# create a window\n",
    "win = visual.Window([800,600], monitor=\"testMonitor\", units=\"deg\")\n",
    "# create a welcome text\n",
    "welcome = visual.TextStim(win, text=\"Welcome to the experiment, press space to continue\")\n",
    "#Show the welcome text\n",
    "welcome.draw()\n",
    "#activate the keyboard entry to continue\n",
    "#keys = event.getKeys()  # Récupère les touches appuyées depuis la dernière frame\n",
    "#if 'space' in keys: \n",
    " # win.flip()\n",
    "  #  welcome = visual.TextStim(win, text=\"now it's time to begin\")\n",
    "   # welcome.draw()\n"
   ]
  },
  {
   "cell_type": "code",
   "execution_count": null,
   "metadata": {},
   "outputs": [],
   "source": []
  }
 ],
 "metadata": {
  "kernelspec": {
   "display_name": "base",
   "language": "python",
   "name": "python3"
  },
  "language_info": {
   "codemirror_mode": {
    "name": "ipython",
    "version": 3
   },
   "file_extension": ".py",
   "mimetype": "text/x-python",
   "name": "python",
   "nbconvert_exporter": "python",
   "pygments_lexer": "ipython3",
   "version": "3.9.12"
  },
  "orig_nbformat": 4
 },
 "nbformat": 4,
 "nbformat_minor": 2
}
